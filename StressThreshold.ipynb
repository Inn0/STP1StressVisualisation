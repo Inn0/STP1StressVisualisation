{
 "cells": [
  {
   "cell_type": "code",
   "execution_count": 1,
   "metadata": {
    "collapsed": true
   },
   "outputs": [],
   "source": [
    "import pandas as pd\n",
    "\n",
    "def create_df_from_sheet(sheet: str) -> pd.DataFrame:\n",
    "    df = pd.read_excel(\"./all data(from manon).xlsx\", sheet_name=sheet)\n",
    "    df.columns = df.iloc[1]\n",
    "    df = df.iloc[2:]\n",
    "    if len(df.columns) > 4:\n",
    "        df.drop(columns=df.columns[-2:], axis=1, inplace=True)\n",
    "    df.columns = [\"timestamp\", \"no_units\", \"RangeCAL_uS\", \"SkinResistanceCAL_kOhms\"]\n",
    "    return df\n",
    "\n",
    "\n",
    "def plot_df(df: pd.DataFrame):\n",
    "    # df.iloc[:, [0, 1]].plot()\n",
    "    # df.iloc[:, [0, 2]].plot()\n",
    "    # df.iloc[:, [0, 3]].plot()\n",
    "    print(\"hi mom\")"
   ]
  },
  {
   "cell_type": "code",
   "execution_count": 2,
   "metadata": {
    "collapsed": false
   },
   "outputs": [
    {
     "name": "stdout",
     "output_type": "stream",
     "text": [
      "hi mom\n"
     ]
    }
   ],
   "source": [
    "test612_1 = create_df_from_sheet(\"612_1\")\n",
    "plot_df(test612_1)"
   ]
  },
  {
   "cell_type": "code",
   "execution_count": 3,
   "metadata": {
    "collapsed": false
   },
   "outputs": [
    {
     "name": "stdout",
     "output_type": "stream",
     "text": [
      "hi mom\n"
     ]
    }
   ],
   "source": [
    "test612_2 = create_df_from_sheet(\"612_2\")\n",
    "plot_df(test612_2)"
   ]
  },
  {
   "cell_type": "code",
   "execution_count": 4,
   "metadata": {
    "collapsed": false
   },
   "outputs": [
    {
     "name": "stdout",
     "output_type": "stream",
     "text": [
      "hi mom\n"
     ]
    }
   ],
   "source": [
    "test612_3 = create_df_from_sheet(\"612_3\")\n",
    "plot_df(test612_3)"
   ]
  },
  {
   "cell_type": "code",
   "execution_count": 5,
   "metadata": {
    "collapsed": false
   },
   "outputs": [
    {
     "name": "stdout",
     "output_type": "stream",
     "text": [
      "hi mom\n"
     ]
    }
   ],
   "source": [
    "test612_4 = create_df_from_sheet(\"612_4\")\n",
    "plot_df(test612_4)"
   ]
  },
  {
   "cell_type": "code",
   "execution_count": 6,
   "metadata": {
    "collapsed": false
   },
   "outputs": [
    {
     "name": "stdout",
     "output_type": "stream",
     "text": [
      "hi mom\n"
     ]
    }
   ],
   "source": [
    "test612_5 = create_df_from_sheet(\"612_5\")\n",
    "plot_df(test612_5)"
   ]
  },
  {
   "cell_type": "markdown",
   "metadata": {
    "collapsed": false
   },
   "source": []
  },
  {
   "cell_type": "code",
   "execution_count": 7,
   "metadata": {
    "collapsed": false
   },
   "outputs": [
    {
     "name": "stdout",
     "output_type": "stream",
     "text": [
      "hi mom\n"
     ]
    }
   ],
   "source": [
    "test612_6 = create_df_from_sheet(\"612_6\")\n",
    "plot_df(test612_6)"
   ]
  },
  {
   "cell_type": "code",
   "execution_count": 8,
   "metadata": {
    "collapsed": false
   },
   "outputs": [
    {
     "name": "stdout",
     "output_type": "stream",
     "text": [
      "hi mom\n"
     ]
    }
   ],
   "source": [
    "test612_7 = create_df_from_sheet(\"612_7\")\n",
    "plot_df(test612_7)"
   ]
  },
  {
   "cell_type": "code",
   "execution_count": 9,
   "metadata": {
    "collapsed": false
   },
   "outputs": [
    {
     "name": "stdout",
     "output_type": "stream",
     "text": [
      "hi mom\n"
     ]
    }
   ],
   "source": [
    "test712_1 = create_df_from_sheet(\"712_1\")\n",
    "plot_df(test712_1)"
   ]
  },
  {
   "cell_type": "code",
   "execution_count": 10,
   "metadata": {
    "collapsed": false
   },
   "outputs": [
    {
     "name": "stdout",
     "output_type": "stream",
     "text": [
      "hi mom\n"
     ]
    }
   ],
   "source": [
    "test712_2 = create_df_from_sheet(\"712_2\")\n",
    "plot_df(test712_2)"
   ]
  },
  {
   "cell_type": "code",
   "execution_count": 11,
   "metadata": {
    "collapsed": false
   },
   "outputs": [
    {
     "name": "stdout",
     "output_type": "stream",
     "text": [
      "hi mom\n"
     ]
    }
   ],
   "source": [
    "test712_3 = create_df_from_sheet(\"712_3\")\n",
    "plot_df(test712_3)"
   ]
  },
  {
   "cell_type": "code",
   "execution_count": 12,
   "metadata": {
    "collapsed": false
   },
   "outputs": [
    {
     "name": "stdout",
     "output_type": "stream",
     "text": [
      "hi mom\n"
     ]
    }
   ],
   "source": [
    "test712_4 = create_df_from_sheet(\"712_4\")\n",
    "plot_df(test712_4)"
   ]
  },
  {
   "cell_type": "code",
   "execution_count": 13,
   "metadata": {
    "collapsed": false
   },
   "outputs": [
    {
     "name": "stdout",
     "output_type": "stream",
     "text": [
      "hi mom\n"
     ]
    }
   ],
   "source": [
    "test712_5 = create_df_from_sheet(\"712_5\")\n",
    "plot_df(test712_5)"
   ]
  },
  {
   "cell_type": "code",
   "execution_count": 14,
   "metadata": {
    "collapsed": false
   },
   "outputs": [
    {
     "name": "stdout",
     "output_type": "stream",
     "text": [
      "hi mom\n"
     ]
    }
   ],
   "source": [
    "test712_6 = create_df_from_sheet(\"712_6\")\n",
    "plot_df(test712_6)"
   ]
  },
  {
   "cell_type": "code",
   "execution_count": 15,
   "metadata": {
    "collapsed": false
   },
   "outputs": [
    {
     "name": "stdout",
     "output_type": "stream",
     "text": [
      "hi mom\n"
     ]
    }
   ],
   "source": [
    "test712_7 = create_df_from_sheet(\"712_7\")\n",
    "plot_df(test712_7)"
   ]
  },
  {
   "cell_type": "code",
   "execution_count": 16,
   "metadata": {
    "collapsed": false
   },
   "outputs": [
    {
     "name": "stdout",
     "output_type": "stream",
     "text": [
      "hi mom\n"
     ]
    }
   ],
   "source": [
    "test712_8 = create_df_from_sheet(\"712_8\")\n",
    "plot_df(test712_8)"
   ]
  },
  {
   "cell_type": "code",
   "execution_count": 17,
   "metadata": {},
   "outputs": [
    {
     "data": {
      "text/html": [
       "<div>\n",
       "<style scoped>\n",
       "    .dataframe tbody tr th:only-of-type {\n",
       "        vertical-align: middle;\n",
       "    }\n",
       "\n",
       "    .dataframe tbody tr th {\n",
       "        vertical-align: top;\n",
       "    }\n",
       "\n",
       "    .dataframe thead th {\n",
       "        text-align: right;\n",
       "    }\n",
       "</style>\n",
       "<table border=\"1\" class=\"dataframe\">\n",
       "  <thead>\n",
       "    <tr style=\"text-align: right;\">\n",
       "      <th></th>\n",
       "      <th>timestamp</th>\n",
       "      <th>RangeCAL_uS</th>\n",
       "    </tr>\n",
       "  </thead>\n",
       "  <tbody>\n",
       "    <tr>\n",
       "      <th>2</th>\n",
       "      <td>2021/12/07 16:33:05.584</td>\n",
       "      <td>0.422466</td>\n",
       "    </tr>\n",
       "    <tr>\n",
       "      <th>3</th>\n",
       "      <td>2021/12/07 16:33:05.834</td>\n",
       "      <td>0.284826</td>\n",
       "    </tr>\n",
       "    <tr>\n",
       "      <th>4</th>\n",
       "      <td>2021/12/07 16:33:06.084</td>\n",
       "      <td>0.188478</td>\n",
       "    </tr>\n",
       "    <tr>\n",
       "      <th>5</th>\n",
       "      <td>2021/12/07 16:33:06.334</td>\n",
       "      <td>0.187146</td>\n",
       "    </tr>\n",
       "    <tr>\n",
       "      <th>6</th>\n",
       "      <td>2021/12/07 16:33:06.584</td>\n",
       "      <td>0.18759</td>\n",
       "    </tr>\n",
       "    <tr>\n",
       "      <th>...</th>\n",
       "      <td>...</td>\n",
       "      <td>...</td>\n",
       "    </tr>\n",
       "    <tr>\n",
       "      <th>7424</th>\n",
       "      <td>2021/12/07 17:04:01.776</td>\n",
       "      <td>4.377736</td>\n",
       "    </tr>\n",
       "    <tr>\n",
       "      <th>7425</th>\n",
       "      <td>2021/12/07 17:04:02.026</td>\n",
       "      <td>4.377736</td>\n",
       "    </tr>\n",
       "    <tr>\n",
       "      <th>7426</th>\n",
       "      <td>2021/12/07 17:04:02.276</td>\n",
       "      <td>4.372631</td>\n",
       "    </tr>\n",
       "    <tr>\n",
       "      <th>7427</th>\n",
       "      <td>2021/12/07 17:04:02.526</td>\n",
       "      <td>4.377736</td>\n",
       "    </tr>\n",
       "    <tr>\n",
       "      <th>7428</th>\n",
       "      <td>2021/12/07 17:04:02.776</td>\n",
       "      <td>4.377736</td>\n",
       "    </tr>\n",
       "  </tbody>\n",
       "</table>\n",
       "<p>7427 rows × 2 columns</p>\n",
       "</div>"
      ],
      "text/plain": [
       "                    timestamp RangeCAL_uS\n",
       "2     2021/12/07 16:33:05.584    0.422466\n",
       "3     2021/12/07 16:33:05.834    0.284826\n",
       "4     2021/12/07 16:33:06.084    0.188478\n",
       "5     2021/12/07 16:33:06.334    0.187146\n",
       "6     2021/12/07 16:33:06.584     0.18759\n",
       "...                       ...         ...\n",
       "7424  2021/12/07 17:04:01.776    4.377736\n",
       "7425  2021/12/07 17:04:02.026    4.377736\n",
       "7426  2021/12/07 17:04:02.276    4.372631\n",
       "7427  2021/12/07 17:04:02.526    4.377736\n",
       "7428  2021/12/07 17:04:02.776    4.377736\n",
       "\n",
       "[7427 rows x 2 columns]"
      ]
     },
     "execution_count": 17,
     "metadata": {},
     "output_type": "execute_result"
    }
   ],
   "source": [
    "dfTemp = test712_6\n",
    "df1_1 = dfTemp.iloc[:, [0, 1]]\n",
    "df1_2 = dfTemp.iloc[:, [0, 2]]\n",
    "df1_3 = dfTemp.iloc[:, [0, 3]]\n",
    "df1_2"
   ]
  },
  {
   "cell_type": "code",
   "execution_count": 21,
   "metadata": {},
   "outputs": [
    {
     "name": "stdout",
     "output_type": "stream",
     "text": [
      "<class 'pandas.core.frame.DataFrame'>\n",
      "RangeIndex: 7427 entries, 2 to 7428\n",
      "Data columns (total 6 columns):\n",
      " #   Column         Non-Null Count  Dtype  \n",
      "---  ------         --------------  -----  \n",
      " 0   timestamp      7427 non-null   object \n",
      " 1   RangeCAL_uS    7427 non-null   object \n",
      " 2   RollingMean    7388 non-null   float64\n",
      " 3   RollingMedian  7388 non-null   float64\n",
      " 4   deltaMean      7188 non-null   float64\n",
      " 5   deltaMedian    7188 non-null   float64\n",
      "dtypes: float64(4), object(2)\n",
      "memory usage: 348.3+ KB\n"
     ]
    },
    {
     "data": {
      "text/html": [
       "<div>\n",
       "<style scoped>\n",
       "    .dataframe tbody tr th:only-of-type {\n",
       "        vertical-align: middle;\n",
       "    }\n",
       "\n",
       "    .dataframe tbody tr th {\n",
       "        vertical-align: top;\n",
       "    }\n",
       "\n",
       "    .dataframe thead th {\n",
       "        text-align: right;\n",
       "    }\n",
       "</style>\n",
       "<table border=\"1\" class=\"dataframe\">\n",
       "  <thead>\n",
       "    <tr style=\"text-align: right;\">\n",
       "      <th></th>\n",
       "      <th>timestamp</th>\n",
       "      <th>RangeCAL_uS</th>\n",
       "      <th>RollingMean</th>\n",
       "      <th>RollingMedian</th>\n",
       "      <th>deltaMean</th>\n",
       "      <th>deltaMedian</th>\n",
       "    </tr>\n",
       "  </thead>\n",
       "  <tbody>\n",
       "    <tr>\n",
       "      <th>2</th>\n",
       "      <td>2021/12/07 16:33:05.584</td>\n",
       "      <td>0.422466</td>\n",
       "      <td>NaN</td>\n",
       "      <td>NaN</td>\n",
       "      <td>NaN</td>\n",
       "      <td>NaN</td>\n",
       "    </tr>\n",
       "    <tr>\n",
       "      <th>3</th>\n",
       "      <td>2021/12/07 16:33:05.834</td>\n",
       "      <td>0.284826</td>\n",
       "      <td>NaN</td>\n",
       "      <td>NaN</td>\n",
       "      <td>NaN</td>\n",
       "      <td>NaN</td>\n",
       "    </tr>\n",
       "    <tr>\n",
       "      <th>4</th>\n",
       "      <td>2021/12/07 16:33:06.084</td>\n",
       "      <td>0.188478</td>\n",
       "      <td>NaN</td>\n",
       "      <td>NaN</td>\n",
       "      <td>NaN</td>\n",
       "      <td>NaN</td>\n",
       "    </tr>\n",
       "    <tr>\n",
       "      <th>5</th>\n",
       "      <td>2021/12/07 16:33:06.334</td>\n",
       "      <td>0.187146</td>\n",
       "      <td>NaN</td>\n",
       "      <td>NaN</td>\n",
       "      <td>NaN</td>\n",
       "      <td>NaN</td>\n",
       "    </tr>\n",
       "    <tr>\n",
       "      <th>6</th>\n",
       "      <td>2021/12/07 16:33:06.584</td>\n",
       "      <td>0.18759</td>\n",
       "      <td>NaN</td>\n",
       "      <td>NaN</td>\n",
       "      <td>NaN</td>\n",
       "      <td>NaN</td>\n",
       "    </tr>\n",
       "    <tr>\n",
       "      <th>...</th>\n",
       "      <td>...</td>\n",
       "      <td>...</td>\n",
       "      <td>...</td>\n",
       "      <td>...</td>\n",
       "      <td>...</td>\n",
       "      <td>...</td>\n",
       "    </tr>\n",
       "    <tr>\n",
       "      <th>7424</th>\n",
       "      <td>2021/12/07 17:04:01.776</td>\n",
       "      <td>4.377736</td>\n",
       "      <td>4.520172</td>\n",
       "      <td>4.543656</td>\n",
       "      <td>-0.205741</td>\n",
       "      <td>-0.114868</td>\n",
       "    </tr>\n",
       "    <tr>\n",
       "      <th>7425</th>\n",
       "      <td>2021/12/07 17:04:02.026</td>\n",
       "      <td>4.377736</td>\n",
       "      <td>4.512514</td>\n",
       "      <td>4.528340</td>\n",
       "      <td>-0.206890</td>\n",
       "      <td>-0.125078</td>\n",
       "    </tr>\n",
       "    <tr>\n",
       "      <th>7426</th>\n",
       "      <td>2021/12/07 17:04:02.276</td>\n",
       "      <td>4.372631</td>\n",
       "      <td>4.505239</td>\n",
       "      <td>4.513025</td>\n",
       "      <td>-0.206251</td>\n",
       "      <td>-0.137841</td>\n",
       "    </tr>\n",
       "    <tr>\n",
       "      <th>7427</th>\n",
       "      <td>2021/12/07 17:04:02.526</td>\n",
       "      <td>4.377736</td>\n",
       "      <td>4.498347</td>\n",
       "      <td>4.502814</td>\n",
       "      <td>-0.204465</td>\n",
       "      <td>-0.137841</td>\n",
       "    </tr>\n",
       "    <tr>\n",
       "      <th>7428</th>\n",
       "      <td>2021/12/07 17:04:02.776</td>\n",
       "      <td>4.377736</td>\n",
       "      <td>4.491455</td>\n",
       "      <td>4.487499</td>\n",
       "      <td>-0.201784</td>\n",
       "      <td>-0.142946</td>\n",
       "    </tr>\n",
       "  </tbody>\n",
       "</table>\n",
       "<p>7427 rows × 6 columns</p>\n",
       "</div>"
      ],
      "text/plain": [
       "                    timestamp RangeCAL_uS  RollingMean  RollingMedian  \\\n",
       "2     2021/12/07 16:33:05.584    0.422466          NaN            NaN   \n",
       "3     2021/12/07 16:33:05.834    0.284826          NaN            NaN   \n",
       "4     2021/12/07 16:33:06.084    0.188478          NaN            NaN   \n",
       "5     2021/12/07 16:33:06.334    0.187146          NaN            NaN   \n",
       "6     2021/12/07 16:33:06.584     0.18759          NaN            NaN   \n",
       "...                       ...         ...          ...            ...   \n",
       "7424  2021/12/07 17:04:01.776    4.377736     4.520172       4.543656   \n",
       "7425  2021/12/07 17:04:02.026    4.377736     4.512514       4.528340   \n",
       "7426  2021/12/07 17:04:02.276    4.372631     4.505239       4.513025   \n",
       "7427  2021/12/07 17:04:02.526    4.377736     4.498347       4.502814   \n",
       "7428  2021/12/07 17:04:02.776    4.377736     4.491455       4.487499   \n",
       "\n",
       "      deltaMean  deltaMedian  \n",
       "2           NaN          NaN  \n",
       "3           NaN          NaN  \n",
       "4           NaN          NaN  \n",
       "5           NaN          NaN  \n",
       "6           NaN          NaN  \n",
       "...         ...          ...  \n",
       "7424  -0.205741    -0.114868  \n",
       "7425  -0.206890    -0.125078  \n",
       "7426  -0.206251    -0.137841  \n",
       "7427  -0.204465    -0.137841  \n",
       "7428  -0.201784    -0.142946  \n",
       "\n",
       "[7427 rows x 6 columns]"
      ]
     },
     "execution_count": 21,
     "metadata": {},
     "output_type": "execute_result"
    },
    {
     "data": {
      "image/png": "[encoded data removed]",
      "text/plain": [
       "<Figure size 640x480 with 1 Axes>"
      ]
     },
     "metadata": {},
     "output_type": "display_data"
    }
   ],
   "source": [
    "\n",
    "df1_2.info()\n",
    "df1_2['RollingMean'] = df1_2['RangeCAL_uS'].rolling(40).mean() # rolling average of 10 seconds (4 units = 1 second)\n",
    "\n",
    "df1_2['RollingMedian'] = df1_2['RangeCAL_uS'].rolling(40).median() # rolling median of 10 seconds\n",
    "df1_2['deltaMean'] = df1_2.RollingMean.diff(periods =20)\n",
    "df1_2['deltaMedian'] = df1_2.RollingMedian.diff(periods =20)\n",
    "df1_2.plot()\n",
    "df1_2"
   ]
  }
 ],
 "metadata": {
  "kernelspec": {
   "display_name": "Python 3.10.4 64-bit",
   "language": "python",
   "name": "python3"
  },
  "language_info": {
   "codemirror_mode": {
    "name": "ipython",
    "version": 3
   },
   "file_extension": ".py",
   "mimetype": "text/x-python",
   "name": "python",
   "nbconvert_exporter": "python",
   "pygments_lexer": "ipython3",
   "version": "3.10.4"
  },
  "vscode": {
   "interpreter": {
    "hash": "916dbcbb3f70747c44a77c7bcd40155683ae19c65e1c03b4aa3499c5328201f1"
   }
  }
 },
 "nbformat": 4,
 "nbformat_minor": 0
}
